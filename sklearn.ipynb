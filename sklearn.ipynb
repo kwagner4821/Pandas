{
  "nbformat": 4,
  "nbformat_minor": 0,
  "metadata": {
    "colab": {
      "name": "sklearn.ipynb",
      "provenance": [],
      "collapsed_sections": [],
      "authorship_tag": "ABX9TyNySMc53+sxB2Hqz5QOX3EU",
      "include_colab_link": true
    },
    "kernelspec": {
      "name": "python3",
      "display_name": "Python 3"
    }
  },
  "cells": [
    {
      "cell_type": "markdown",
      "metadata": {
        "id": "view-in-github",
        "colab_type": "text"
      },
      "source": [
        "<a href=\"https://colab.research.google.com/github/kwagner4821/Pandas/blob/main/sklearn.ipynb\" target=\"_parent\"><img src=\"https://colab.research.google.com/assets/colab-badge.svg\" alt=\"Open In Colab\"/></a>"
      ]
    },
    {
      "cell_type": "code",
      "metadata": {
        "id": "BflhiaaW21l4"
      },
      "source": [
        "import numpy as np\n",
        "import pandas as pd\n",
        "import matplotlib.pyplot as plt\n",
        "\n",
        "from sklearn.tree import DecisionTreeClassifier\n",
        "from sklearn.metrics import accuracy_score\n",
        "\n",
        "df = pd.read_csv(\"https://raw.githubusercontent.com/kwagner4821/Pandas/main/Police_Department_Incidents_-_Previous_Year__2016_.csv\")"
      ],
      "execution_count": 40,
      "outputs": []
    },
    {
      "cell_type": "code",
      "metadata": {
        "id": "s48Ve1hr3FiD"
      },
      "source": [
        "print(df.head)\n",
        "print(df.columns)\n",
        "XandY = df[['X','Y']]\n",
        "category = df['Category']"
      ],
      "execution_count": null,
      "outputs": []
    },
    {
      "cell_type": "markdown",
      "metadata": {
        "id": "9HkysjBI6C6y"
      },
      "source": [
        "Split training and testing into 70% and 30%."
      ]
    },
    {
      "cell_type": "code",
      "metadata": {
        "id": "d4xmt75x5sVK",
        "outputId": "b4297ae3-705c-485e-968a-832805a4645c",
        "colab": {
          "base_uri": "https://localhost:8080/",
          "height": 34
        }
      },
      "source": [
        "rows = XandY.shape[0]\n",
        "print(rows)\n",
        "XandYTrain = XandY[0:int(.7*rows)]\n",
        "XandYTest = XandY[int(.7*rows):rows]\n",
        "catTrain = category[0:int(.7*rows)] \n",
        "catTest = category[int(.7*rows):rows]"
      ],
      "execution_count": 34,
      "outputs": [
        {
          "output_type": "stream",
          "text": [
            "150500\n"
          ],
          "name": "stdout"
        }
      ]
    },
    {
      "cell_type": "code",
      "metadata": {
        "id": "oY49dQKp421y"
      },
      "source": [
        "tree = DecisionTreeClassifier().fit(XandYTrain,catTrain)\n",
        "res = tree.predict(XandYTest)"
      ],
      "execution_count": 35,
      "outputs": []
    },
    {
      "cell_type": "markdown",
      "metadata": {
        "id": "dec783JH9pWt"
      },
      "source": [
        "Calculating Error Rate"
      ]
    },
    {
      "cell_type": "code",
      "metadata": {
        "id": "J1p5_oX59T8-",
        "outputId": "96ca97c7-8e52-4553-8795-b66c9b6f073f",
        "colab": {
          "base_uri": "https://localhost:8080/",
          "height": 34
        }
      },
      "source": [
        "accuracy_score(res, catTest)"
      ],
      "execution_count": 41,
      "outputs": [
        {
          "output_type": "execute_result",
          "data": {
            "text/plain": [
              "0.3262015503875969"
            ]
          },
          "metadata": {
            "tags": []
          },
          "execution_count": 41
        }
      ]
    },
    {
      "cell_type": "code",
      "metadata": {
        "id": "20A5nVS1_B2e",
        "outputId": "c1eebcf0-e25f-4e42-e9fb-60ab5528b7ee",
        "colab": {
          "base_uri": "https://localhost:8080/",
          "height": 265
        }
      },
      "source": [
        "crime_x = df['X']\n",
        "crime_y = df['Y']\n",
        "plt.scatter(crime_x,crime_y)\n",
        "plt.show()"
      ],
      "execution_count": 44,
      "outputs": [
        {
          "output_type": "display_data",
          "data": {
            "image/png": "[encoded data removed]",
            "text/plain": [
              "<Figure size 432x288 with 1 Axes>"
            ]
          },
          "metadata": {
            "tags": [],
            "needs_background": "light"
          }
        }
      ]
    }
  ]
}