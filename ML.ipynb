{
  "nbformat": 4,
  "nbformat_minor": 0,
  "metadata": {
    "colab": {
      "name": "ML.ipynb",
      "provenance": [],
      "authorship_tag": "ABX9TyMcdL2hG+zv1DWFO2Ck5P7C",
      "include_colab_link": true
    },
    "kernelspec": {
      "name": "python3",
      "display_name": "Python 3"
    }
  },
  "cells": [
    {
      "cell_type": "markdown",
      "metadata": {
        "id": "view-in-github",
        "colab_type": "text"
      },
      "source": [
        "<a href=\"https://colab.research.google.com/github/kwagner4821/Pandas/blob/main/ML.ipynb\" target=\"_parent\"><img src=\"https://colab.research.google.com/assets/colab-badge.svg\" alt=\"Open In Colab\"/></a>"
      ]
    },
    {
      "cell_type": "code",
      "metadata": {
        "id": "BflhiaaW21l4"
      },
      "source": [
        "import numpy as np\n",
        "import pandas as pd\n",
        "from sklearn.tree import DecisionTreeClassifier\n",
        "\n",
        "df = pd.read_csv(\"https://raw.githubusercontent.com/kwagner4821/Pandas/main/Police_Department_Incidents_-_Previous_Year__2016_.csv\")"
      ],
      "execution_count": null,
      "outputs": []
    },
    {
      "cell_type": "code",
      "metadata": {
        "id": "s48Ve1hr3FiD"
      },
      "source": [
        "print(df.head)"
      ],
      "execution_count": null,
      "outputs": []
    },
    {
      "cell_type": "code",
      "metadata": {
        "id": "ghNIKAmx3O63",
        "outputId": "d3dd6fd4-6ebd-4e37-df30-9067cdb39688",
        "colab": {
          "base_uri": "https://localhost:8080/",
          "height": 68
        }
      },
      "source": [
        "print(df.columns)"
      ],
      "execution_count": null,
      "outputs": [
        {
          "output_type": "stream",
          "text": [
            "Index(['IncidntNum', 'Category', 'Descript', 'DayOfWeek', 'Date', 'Time',\n",
            "       'PdDistrict', 'Resolution', 'Address', 'X', 'Y', 'Location', 'PdId'],\n",
            "      dtype='object')\n"
          ],
          "name": "stdout"
        }
      ]
    },
    {
      "cell_type": "code",
      "metadata": {
        "id": "TuxHnYTb3YKJ",
        "outputId": "7b598412-40a8-4764-e35e-666901e17738",
        "colab": {
          "base_uri": "https://localhost:8080/",
          "height": 221
        }
      },
      "source": [
        "print(df.Category)"
      ],
      "execution_count": null,
      "outputs": [
        {
          "output_type": "stream",
          "text": [
            "0            WEAPON LAWS\n",
            "1            WEAPON LAWS\n",
            "2               WARRANTS\n",
            "3           NON-CRIMINAL\n",
            "4           NON-CRIMINAL\n",
            "               ...      \n",
            "150495           ASSAULT\n",
            "150496      NON-CRIMINAL\n",
            "150497     LARCENY/THEFT\n",
            "150498     LARCENY/THEFT\n",
            "150499    OTHER OFFENSES\n",
            "Name: Category, Length: 150500, dtype: object\n"
          ],
          "name": "stdout"
        }
      ]
    }
  ]
}